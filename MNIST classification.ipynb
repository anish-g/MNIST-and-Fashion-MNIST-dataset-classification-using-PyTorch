{
 "cells": [
  {
   "cell_type": "markdown",
   "metadata": {},
   "source": [
    "# MNIST Dataset Classification using PyTorch step-by-step"
   ]
  },
  {
   "cell_type": "markdown",
   "metadata": {},
   "source": [
    "**MNIST** dataset consists of greyscale handwritten digits. Each image is 28x28 pixels.\n",
    "<img src='assets/mnist.png'>"
   ]
  },
  {
   "cell_type": "markdown",
   "metadata": {},
   "source": [
    "### Step 1 : Import requirements\n",
    "First, import **PyTorch**, its **nn** module to build network and datasets from **torchvision**. "
   ]
  },
  {
   "cell_type": "code",
   "execution_count": 6,
   "metadata": {},
   "outputs": [],
   "source": [
    "import torch\n",
    "from torch import nn\n",
    "from torchvision import datasets, transforms\n",
    "\n",
    "# Define a transform to normalize the data\n",
    "transform = transforms.Compose([transforms.ToTensor(),\n",
    "                               transforms.Normalize((0.5,), (0.5,))\n",
    "                               ])\n",
    "\n",
    "# Download and load the training data\n",
    "trainset = datasets.MNIST('~/.pytorch/MNIST_data', download=True, train=True, transform=transform)\n",
    "trainloader = torch.utils.data.DataLoader(trainset, batch_size=64, shuffle=True)"
   ]
  },
  {
   "cell_type": "markdown",
   "metadata": {},
   "source": [
    "### "
   ]
  },
  {
   "cell_type": "markdown",
   "metadata": {},
   "source": [
    "### Step 2 : Build Forward Pass\n",
    "PyTorch provides a convinent way to build networks where a tensor is passed sequentially through operations with **nn.Sequential**\n",
    "This model returns the log-softmax as the output and calculates the loss using the negative log likelihood loss. *Note: for `nn.LogSoftmax`, the `dim` keyword argument has to be set appropriately. `dim=0` calculates softmax across the rows, so each column sums to 1, while `dim=1` calculates across the columns so each row sums to 1.*"
   ]
  },
  {
   "cell_type": "code",
   "execution_count": 7,
   "metadata": {},
   "outputs": [
    {
     "name": "stdout",
     "output_type": "stream",
     "text": [
      "tensor(2.3117, grad_fn=<NllLossBackward>)\n"
     ]
    }
   ],
   "source": [
    "# Feed-forward network\n",
    "model = nn.Sequential(nn.Linear(784, 128),\n",
    "                     nn.ReLU(),\n",
    "                     nn.Linear(128, 64),\n",
    "                     nn.ReLU(),\n",
    "                     nn.Linear(64, 10),\n",
    "                     nn.LogSoftmax(dim=1))\n",
    "\n",
    "# Loss is generally assigned to keyword criterion\n",
    "criterion = nn.NLLLoss()\n",
    "\n",
    "# Get data\n",
    "images, labels = next(iter(trainloader))\n",
    "# Flatten images\n",
    "images = images.view(images.shape[0], -1)\n",
    "\n",
    "# Forward pass, get our logits\n",
    "logits = model(images)\n",
    "# Calculate the loss with the logits and the labels\n",
    "loss = criterion(logits, labels)\n",
    "\n",
    "print(loss)"
   ]
  },
  {
   "cell_type": "markdown",
   "metadata": {},
   "source": [
    "### Step 3 : Implementing Backward Pass\n",
    "Torch provides a module, `autograd`, for automatically calculating the gradients of tensors. It can be used to calculate the gradients of all our parameters with respect to the loss. Autograd works by keeping track of operations performed on tensors, then going backwards through those operations, calculating gradients along the way. To make sure PyTorch keeps track of operations on a tensor and calculates the gradients, `requires_grad = True` should be set on a tensor. This can be done at creation with the `requires_grad` keyword, or at any time with `x.reuires_grad_(True)`.\n",
    "\n",
    "When a network is created with PyTorch, all of the parameters are initialized with `requires_grad = True`. This means that when the loss is calculated and `loss.backward()` is called, the gradients for the parameters are calculated. These gradients are used to update the weights with gradient descent."
   ]
  },
  {
   "cell_type": "code",
   "execution_count": 8,
   "metadata": {},
   "outputs": [
    {
     "name": "stdout",
     "output_type": "stream",
     "text": [
      "Before backward pass: \n",
      " None\n",
      "After backward pass: \n",
      " tensor([[-1.7205e-04, -1.7205e-04, -1.7205e-04,  ..., -1.7205e-04,\n",
      "         -1.7205e-04, -1.7205e-04],\n",
      "        [-9.3246e-04, -9.3246e-04, -9.3246e-04,  ..., -9.3246e-04,\n",
      "         -9.3246e-04, -9.3246e-04],\n",
      "        [ 5.7061e-03,  5.7061e-03,  5.7061e-03,  ...,  5.7061e-03,\n",
      "          5.7061e-03,  5.7061e-03],\n",
      "        ...,\n",
      "        [ 9.9031e-05,  9.9031e-05,  9.9031e-05,  ...,  9.9031e-05,\n",
      "          9.9031e-05,  9.9031e-05],\n",
      "        [ 3.6040e-04,  3.6040e-04,  3.6040e-04,  ...,  3.6040e-04,\n",
      "          3.6040e-04,  3.6040e-04],\n",
      "        [ 1.3497e-03,  1.3497e-03,  1.3497e-03,  ...,  1.3497e-03,\n",
      "          1.3497e-03,  1.3497e-03]])\n"
     ]
    }
   ],
   "source": [
    "print('Before backward pass: \\n', model[0].weight.grad)\n",
    "\n",
    "loss.backward()\n",
    "\n",
    "print('After backward pass: \\n', model[0].weight.grad)"
   ]
  },
  {
   "cell_type": "markdown",
   "metadata": {},
   "source": [
    "### Step 4 : Training Pass\n",
    "To start training, an optimizer is needed to update the weights with the gradients. These can be found in PyTorch's `optim` package. Stochastic gradient descent is used here with `optim.SGD`."
   ]
  },
  {
   "cell_type": "code",
   "execution_count": 9,
   "metadata": {},
   "outputs": [],
   "source": [
    "from torch import optim\n",
    "\n",
    "# Optimizers require parameters to optimize and a learning rate\n",
    "optimizer = optim.SGD(model.parameters(), lr=0.01)"
   ]
  },
  {
   "cell_type": "markdown",
   "metadata": {},
   "source": [
    "The general process for one learning step with PyTorch is:\n",
    "* Make a forward pass through the network\n",
    "* Use the network output to calculate the loss\n",
    "* Perform a backward pass through the network with `loss.backward()` to calculate the gradients\n",
    "* Take a step with the optimizer to update the weights\n",
    "\n",
    "When multiple backward passes are done with the same parameters, the gradients are accumulated. this means the gradients need to be zero on each training pass or the gradients from previous training batches is retained. The gradients is zeroed with `optimizer.zero_grad()`."
   ]
  },
  {
   "cell_type": "code",
   "execution_count": 10,
   "metadata": {},
   "outputs": [
    {
     "name": "stdout",
     "output_type": "stream",
     "text": [
      "Initial weights -  Parameter containing:\n",
      "tensor([[ 1.4500e-02, -1.0694e-02, -5.0313e-03,  ...,  3.2782e-02,\n",
      "          4.0764e-03,  3.2388e-02],\n",
      "        [ 2.8190e-02,  2.4728e-02,  1.0211e-02,  ..., -1.4970e-02,\n",
      "          2.5396e-02, -5.2101e-03],\n",
      "        [-5.2342e-03, -2.4755e-05, -1.9817e-02,  ...,  1.5376e-02,\n",
      "          1.2489e-02,  2.1549e-02],\n",
      "        ...,\n",
      "        [-1.7510e-02,  1.2825e-02,  4.8500e-03,  ...,  2.6936e-02,\n",
      "         -1.0739e-02, -2.9443e-02],\n",
      "        [ 2.3936e-02, -1.7176e-02,  1.5411e-02,  ...,  9.5961e-04,\n",
      "          1.4006e-03, -1.7751e-03],\n",
      "        [-2.1720e-02, -8.5133e-03, -3.4115e-02,  ...,  6.8557e-03,\n",
      "          6.0177e-04,  1.0711e-02]], requires_grad=True)\n",
      "Gradient -  tensor([[ 0.0007,  0.0007,  0.0007,  ...,  0.0007,  0.0007,  0.0007],\n",
      "        [ 0.0024,  0.0024,  0.0024,  ...,  0.0024,  0.0024,  0.0024],\n",
      "        [ 0.0064,  0.0064,  0.0064,  ...,  0.0064,  0.0064,  0.0064],\n",
      "        ...,\n",
      "        [-0.0005, -0.0005, -0.0005,  ..., -0.0005, -0.0005, -0.0005],\n",
      "        [ 0.0004,  0.0004,  0.0004,  ...,  0.0004,  0.0004,  0.0004],\n",
      "        [ 0.0023,  0.0023,  0.0023,  ...,  0.0023,  0.0023,  0.0023]])\n",
      "Updated weights -  Parameter containing:\n",
      "tensor([[ 1.4494e-02, -1.0701e-02, -5.0381e-03,  ...,  3.2775e-02,\n",
      "          4.0696e-03,  3.2381e-02],\n",
      "        [ 2.8166e-02,  2.4704e-02,  1.0187e-02,  ..., -1.4994e-02,\n",
      "          2.5372e-02, -5.2338e-03],\n",
      "        [-5.2979e-03, -8.8484e-05, -1.9881e-02,  ...,  1.5312e-02,\n",
      "          1.2425e-02,  2.1485e-02],\n",
      "        ...,\n",
      "        [-1.7504e-02,  1.2830e-02,  4.8553e-03,  ...,  2.6941e-02,\n",
      "         -1.0733e-02, -2.9438e-02],\n",
      "        [ 2.3932e-02, -1.7180e-02,  1.5406e-02,  ...,  9.5541e-04,\n",
      "          1.3963e-03, -1.7793e-03],\n",
      "        [-2.1742e-02, -8.5360e-03, -3.4137e-02,  ...,  6.8330e-03,\n",
      "          5.7905e-04,  1.0688e-02]], requires_grad=True)\n"
     ]
    }
   ],
   "source": [
    "print('Initial weights - ', model[0].weight)\n",
    "\n",
    "images, labels = next(iter(trainloader))\n",
    "images.resize_(64, 784)\n",
    "\n",
    "#Clear  the gradients as the gradients are accumulated\n",
    "optimizer.zero_grad()\n",
    "\n",
    "# Forward pass, then backward pass, then update weights\n",
    "output = model(images)\n",
    "loss = criterion(output, labels)\n",
    "loss.backward()\n",
    "print('Gradient - ', model[0].weight.grad)\n",
    "\n",
    "# Update step and new weights\n",
    "optimizer.step()\n",
    "print('Updated weights - ', model[0].weight)"
   ]
  },
  {
   "cell_type": "markdown",
   "metadata": {},
   "source": [
    "### Step 5 : Finally training the complete model\n",
    "One pass through the entire dataset is called an epoch. Here the model is looped through `trainloader` to get training batches. For each batch, a training pass is done where the loss is calculated, a backward pass is done, and the weights are updated."
   ]
  },
  {
   "cell_type": "code",
   "execution_count": 11,
   "metadata": {},
   "outputs": [
    {
     "name": "stdout",
     "output_type": "stream",
     "text": [
      "Training loss: 1.9536608488066618\n",
      "Training loss: 0.8544850124479103\n",
      "Training loss: 0.5129309449591108\n",
      "Training loss: 0.4235479667274428\n",
      "Training loss: 0.3822583086264413\n"
     ]
    }
   ],
   "source": [
    "model = nn.Sequential(nn.Linear(784, 128),\n",
    "                     nn.ReLU(),\n",
    "                     nn.Linear(128, 64),\n",
    "                     nn.ReLU(),\n",
    "                     nn.Linear(64, 10),\n",
    "                     nn.LogSoftmax(dim=1))\n",
    "\n",
    "criterion = nn.NLLLoss()\n",
    "optimizer = optim.SGD(model.parameters(), lr=0.003)\n",
    "\n",
    "epoch = 5\n",
    "for e in range(epoch):\n",
    "    running_loss = 0\n",
    "    for images, labels in trainloader:\n",
    "        images = images. view(images.shape[0], -1)\n",
    "        \n",
    "        # Training pass\n",
    "        optimizer.zero_grad()\n",
    "        output = model(images)\n",
    "        loss = criterion(output, labels)\n",
    "        loss.backward()\n",
    "        optimizer.step()\n",
    "        \n",
    "        running_loss += loss.item()\n",
    "    else:\n",
    "        print(f\"Training loss: {running_loss/len(trainloader)}\")"
   ]
  },
  {
   "cell_type": "markdown",
   "metadata": {},
   "source": [
    "#### Check it's output"
   ]
  },
  {
   "cell_type": "code",
   "execution_count": 28,
   "metadata": {},
   "outputs": [
    {
     "data": {
      "image/png": "[encoded data removed]",
      "text/plain": [
       "<Figure size 432x648 with 2 Axes>"
      ]
     },
     "metadata": {
      "needs_background": "light"
     },
     "output_type": "display_data"
    }
   ],
   "source": [
    "%matplotlib inline\n",
    "import matplotlib.pyplot as plt\n",
    "import numpy as np\n",
    "from torch import nn, optim\n",
    "from torch.autograd import Variable\n",
    "\n",
    "\n",
    "images, labels = next(iter(trainloader))\n",
    "\n",
    "img = images[0].view(1, 784)\n",
    "\n",
    "# Turn off gradients to speed up this part\n",
    "with torch.no_grad():\n",
    "    logps = model(img)\n",
    "\n",
    "\n",
    "\n",
    "def view_classify(img, ps):\n",
    "    ps = ps.data.numpy().squeeze()\n",
    "    fig, (ax1, ax2) = plt.subplots(figsize=(6,9), ncols=2)\n",
    "    ax1.imshow(img.resize_(1, 28, 28).numpy().squeeze())\n",
    "    ax1.axis('off')\n",
    "    ax2.barh(np.arange(10), ps)\n",
    "    ax2.set_aspect(0.1)\n",
    "    ax2.set_yticks(np.arange(10))\n",
    "    ax2.set_yticklabels(np.arange(10))\n",
    "    ax2.set_title('Class Probability')\n",
    "    ax2.set_xlim(0, 1.1)\n",
    "    plt.tight_layout()\n",
    "    \n",
    "    \n",
    "# Output of the network are log-probabilities, need to take exponential for probabilities\n",
    "ps = torch.exp(logps)\n",
    "view_classify(img.view(1, 28, 28), ps)"
   ]
  },
  {
   "cell_type": "code",
   "execution_count": null,
   "metadata": {},
   "outputs": [],
   "source": []
  }
 ],
 "metadata": {
  "kernelspec": {
   "display_name": "Python 3",
   "language": "python",
   "name": "python3"
  },
  "language_info": {
   "codemirror_mode": {
    "name": "ipython",
    "version": 3
   },
   "file_extension": ".py",
   "mimetype": "text/x-python",
   "name": "python",
   "nbconvert_exporter": "python",
   "pygments_lexer": "ipython3",
   "version": "3.8.2"
  }
 },
 "nbformat": 4,
 "nbformat_minor": 4
}
